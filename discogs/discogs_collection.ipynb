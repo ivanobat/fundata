{
 "cells": [
  {
   "cell_type": "code",
   "execution_count": 1,
   "metadata": {},
   "outputs": [],
   "source": [
    "import discogs_client\n",
    "import pandas as pd\n",
    "d = discogs_client.Client('ExampleApplication/0.1')\n"
   ]
  },
  {
   "cell_type": "code",
   "execution_count": 2,
   "metadata": {},
   "outputs": [],
   "source": [
    "d = discogs_client.Client('my_user_agent/1.0', user_token='wBjBphkFWMTjerbWZPYdFvlqLETqxGYyfzrPGjXy')"
   ]
  },
  {
   "cell_type": "code",
   "execution_count": 3,
   "metadata": {},
   "outputs": [
    {
     "name": "stdout",
     "output_type": "stream",
     "text": [
      "<User 413391 'bat13'>\n"
     ]
    }
   ],
   "source": [
    "me=d.identity()\n",
    "print(me)"
   ]
  },
  {
   "cell_type": "code",
   "execution_count": 4,
   "metadata": {},
   "outputs": [],
   "source": [
    "collection = pd.DataFrame()\n",
    "title = list()\n",
    "artist = list()\n",
    "\n",
    "for item in me.collection_folders[0].releases:\n",
    "    title.append(item.release.title)\n",
    "    artist.append(item.release.artists_sort)"
   ]
  },
  {
   "cell_type": "code",
   "execution_count": 5,
   "metadata": {},
   "outputs": [
    {
     "data": {
      "text/html": [
       "<div>\n",
       "<style scoped>\n",
       "    .dataframe tbody tr th:only-of-type {\n",
       "        vertical-align: middle;\n",
       "    }\n",
       "\n",
       "    .dataframe tbody tr th {\n",
       "        vertical-align: top;\n",
       "    }\n",
       "\n",
       "    .dataframe thead th {\n",
       "        text-align: right;\n",
       "    }\n",
       "</style>\n",
       "<table border=\"1\" class=\"dataframe\">\n",
       "  <thead>\n",
       "    <tr style=\"text-align: right;\">\n",
       "      <th></th>\n",
       "      <th>title</th>\n",
       "      <th>artist</th>\n",
       "    </tr>\n",
       "  </thead>\n",
       "  <tbody>\n",
       "    <tr>\n",
       "      <th>0</th>\n",
       "      <td>Infinity Pool</td>\n",
       "      <td>When Saints Go Machine</td>\n",
       "    </tr>\n",
       "    <tr>\n",
       "      <th>1</th>\n",
       "      <td>Lux Prima</td>\n",
       "      <td>Karen O, Danger Mouse</td>\n",
       "    </tr>\n",
       "    <tr>\n",
       "      <th>2</th>\n",
       "      <td>Milano</td>\n",
       "      <td>Daniele Luppi &amp; Parquet Courts</td>\n",
       "    </tr>\n",
       "    <tr>\n",
       "      <th>3</th>\n",
       "      <td>Sleep Well Beast</td>\n",
       "      <td>National, The</td>\n",
       "    </tr>\n",
       "    <tr>\n",
       "      <th>4</th>\n",
       "      <td>Fordlandia</td>\n",
       "      <td>Jóhann Jóhannsson</td>\n",
       "    </tr>\n",
       "    <tr>\n",
       "      <th>...</th>\n",
       "      <td>...</td>\n",
       "      <td>...</td>\n",
       "    </tr>\n",
       "    <tr>\n",
       "      <th>436</th>\n",
       "      <td>Default</td>\n",
       "      <td>Atoms For Peace (2)</td>\n",
       "    </tr>\n",
       "    <tr>\n",
       "      <th>437</th>\n",
       "      <td>I Saw Nothing Good So I Left</td>\n",
       "      <td>Bragolin</td>\n",
       "    </tr>\n",
       "    <tr>\n",
       "      <th>438</th>\n",
       "      <td>xx</td>\n",
       "      <td>XX, The</td>\n",
       "    </tr>\n",
       "    <tr>\n",
       "      <th>439</th>\n",
       "      <td>Fantasy Black Channel</td>\n",
       "      <td>Late Of The Pier</td>\n",
       "    </tr>\n",
       "    <tr>\n",
       "      <th>440</th>\n",
       "      <td>Lateralus</td>\n",
       "      <td>Tool (2)</td>\n",
       "    </tr>\n",
       "  </tbody>\n",
       "</table>\n",
       "<p>441 rows × 2 columns</p>\n",
       "</div>"
      ],
      "text/plain": [
       "                            title                          artist\n",
       "0                   Infinity Pool          When Saints Go Machine\n",
       "1                       Lux Prima           Karen O, Danger Mouse\n",
       "2                          Milano  Daniele Luppi & Parquet Courts\n",
       "3                Sleep Well Beast                   National, The\n",
       "4                      Fordlandia               Jóhann Jóhannsson\n",
       "..                            ...                             ...\n",
       "436                       Default             Atoms For Peace (2)\n",
       "437  I Saw Nothing Good So I Left                        Bragolin\n",
       "438                            xx                         XX, The\n",
       "439         Fantasy Black Channel                Late Of The Pier\n",
       "440                     Lateralus                        Tool (2)\n",
       "\n",
       "[441 rows x 2 columns]"
      ]
     },
     "execution_count": 5,
     "metadata": {},
     "output_type": "execute_result"
    }
   ],
   "source": [
    "collection['title'] = title\n",
    "collection['artist'] = artist\n",
    "collection"
   ]
  },
  {
   "cell_type": "code",
   "execution_count": null,
   "metadata": {},
   "outputs": [],
   "source": []
  }
 ],
 "metadata": {
  "kernelspec": {
   "display_name": ".venv",
   "language": "python",
   "name": "python3"
  },
  "language_info": {
   "codemirror_mode": {
    "name": "ipython",
    "version": 3
   },
   "file_extension": ".py",
   "mimetype": "text/x-python",
   "name": "python",
   "nbconvert_exporter": "python",
   "pygments_lexer": "ipython3",
   "version": "3.11.3"
  },
  "orig_nbformat": 4
 },
 "nbformat": 4,
 "nbformat_minor": 2
}

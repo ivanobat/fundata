{
 "cells": [
  {
   "cell_type": "code",
   "execution_count": 13,
   "metadata": {},
   "outputs": [],
   "source": [
    "import discogs_client\n",
    "import pandas as pd\n",
    "import plotly.express as px\n",
    "from secret import discogs_user_token\n",
    "import requests\n",
    "import time\n",
    "from datetime import datetime\n",
    "d = discogs_client.Client('ExampleApplication/0.1')\n"
   ]
  },
  {
   "cell_type": "code",
   "execution_count": 3,
   "metadata": {},
   "outputs": [],
   "source": [
    "d = discogs_client.Client('my_user_agent/1.0', user_token=discogs_user_token)"
   ]
  },
  {
   "cell_type": "code",
   "execution_count": 4,
   "metadata": {},
   "outputs": [
    {
     "name": "stdout",
     "output_type": "stream",
     "text": [
      "<User 413391 'bat13'>\n"
     ]
    }
   ],
   "source": [
    "me=d.identity()\n",
    "print(me)"
   ]
  },
  {
   "cell_type": "code",
   "execution_count": 5,
   "metadata": {},
   "outputs": [
    {
     "name": "stdout",
     "output_type": "stream",
     "text": [
      "Infinity Pool\n",
      "Lux Prima\n",
      "Milano\n",
      "Sleep Well Beast\n",
      "Fordlandia\n",
      "High Violet\n",
      "Trouble Will Find Me\n",
      "Epitaph\n",
      "Gluey Porch Treatments\n",
      "The Great Regression\n",
      "The Big Come Up\n",
      "Amor Y Muerte En La Tercera Fase\n",
      "Otros Mundos\n",
      "Eleven Miles\n",
      "Satellites\n",
      "Suave Con La Canoa\n",
      "System Of A Down\n",
      "Diabolus In Musica\n",
      "Mezmerize\n",
      "Hypnotize\n",
      "Steal This Album!\n",
      "God Hates Us All\n",
      "Il Mio Nome E' Nessuno (Colonna Sonora Originale)\n",
      "New Bermuda\n",
      "Unflesh\n",
      "Selected Ambient Works 85-92\n",
      "1692\n",
      "TRST\n",
      "Self Control\n",
      "The Desaturating Seven\n",
      "Four Foot Shack\n",
      "South Of Reality\n",
      "Mettal EP\n",
      "Belfry\n",
      "Feast For Water\n",
      "Küken\n",
      "Louise Attaque\n",
      "Alquimia Para Principiantes\n",
      "Sealand\n",
      "Jupiter Lion\n",
      "Son Imaginacions Teves\n",
      "†\n",
      "Sucks\n",
      "Fall Off The Apex\n",
      "Ephemeral Feast\n",
      "La Jungle\n",
      "How Did We Get So Dark ?\n",
      "Royal Blood\n",
      "Moon\n",
      "Unfun\n",
      "Master Of Puppets\n",
      "Kill 'Em All\n",
      "Possessor\n",
      "Hartzazu Koktela Hauekin...\n",
      "Volatile Times\n",
      "Lament\n",
      "Soulfly\n",
      "3\n",
      "Revolusongs\n",
      "Existential Reckoning\n",
      "Speritismo\n",
      "Moderat\n",
      "Orchestra Of Bubbles\n",
      "Deep Tissue\n",
      "Silent Shout\n",
      "Deep Cuts\n",
      "Speritismo\n",
      "Hard In Heaven\n",
      "As The Valley Of Death Becomes Us Our Silver Memories Fade\n",
      "Föllakzoid\n",
      "Morningrise\n",
      "Orchid\n",
      "My Arms, Your Hearse\n",
      "Vital Idol:Revitalized\n",
      "Dark Night Of The Soul\n",
      "Say Yes To Love\n",
      "Macrocosm Microcosm\n",
      "Bad Witch\n",
      "Siamese Dream\n",
      "If Anything\n",
      "(III)\n",
      "V\n",
      "Whiplash Smile\n",
      "Becoming X\n",
      "Omar Rodriguez Lopez & John Frusciante\n",
      "The Mars Volta\n",
      "Que Dios Te Maldiga Mi Corazon\n",
      "La Realidad De Los Sueños\n",
      "Frances The Mute\n",
      "Gamma\n",
      "Toxicity\n",
      "Kind Of Blue\n",
      "Santana\n",
      "Dirt\n",
      "Popular Problems\n",
      "Anthroscene\n",
      "Conquest Of Kingdoms\n",
      "Crush Songs \n",
      "Lost Tracks Vol. 2 \n",
      "Back Up: Mexican Tecno Pop 1980​-​1989\n",
      "Hyena (A Soundtrack By The The)\n",
      "Sunbather\n",
      "Second Piano Concerto\n",
      "South Of Heaven\n",
      "Evgeny Kissin / Beethoven\n",
      "Weezer\n",
      "Live At Reading\n",
      "From The Muddy Banks Of The Wishkah\n",
      "In Utero\n",
      "Crystal Castles\n",
      "Reves Mecaniques\n",
      "Krülle Bol\n",
      "Melancholic Anger\n",
      "Keep On Your Mean Side\n",
      "Favourite Worst Nightmare\n",
      "The Age Of The Understatement\n",
      "Blood Pressures\n",
      "Ash & Ice\n",
      "Immunity\n",
      "Little Bastards\n",
      "Hidden\n",
      "No Wow\n",
      "Midnight Boom\n",
      "Mosquito\n",
      "2\n",
      "Holy Wars\n",
      "The Substance \n",
      "Maere\n",
      "Rocks (Milestones Reloaded)\n",
      "Far Beyond Driven\n",
      "The Great Southern Trendkill\n",
      "Sonido Cósmico\n",
      "Into The Silence\n",
      "In Roundness\n",
      "Apocalypse Now - Original Motion Picture Soundtrack\n",
      "Tempel\n",
      "Tempel\n",
      "Konkylie\n",
      "The Fantastic Plastic Machine\n",
      "Ashes Of The Wake\n",
      "No Code\n",
      "Blade Runner 2049 (Original Motion Picture Soundtrack)\n",
      "Democratic National Convention 2000\n",
      "Renegades\n",
      "Ten\n",
      "Every Sound Has A Color In The Valley Of Night\n",
      "Teleiste Mouska\n",
      "Abyss\n",
      "Llamp De Déu\n",
      "Chronicle (20 Greatest Hits)\n",
      "Blood Visions\n",
      "( )\n",
      "Vaya\n",
      "In/Casino/Out\n",
      "Crystal Castles\n",
      "Signals, Calls, And Marches\n",
      "L'Oratoire\n",
      "Oil Of Every Pearl's Un-Insides\n",
      "Black Waltz\n",
      "Sublime\n",
      "Use Your Illusion II\n",
      "Dusty Gems & Raw Nuggets\n",
      "Appetite For Destruction\n",
      "Dummy\n",
      "Portishead\n",
      "Amputechture\n",
      "Frances The Mute\n",
      "De-Loused In The Comatorium\n",
      "Immemorial\n",
      "Tempest\n",
      "La Calma Chicha\n",
      "Umbra\n",
      "Cryosleep\n",
      "Centro Dramatico Nacional\n",
      "OOO\n",
      "Passionate and Tragic\n",
      "Into The Great Wide Yonder\n",
      "Lost\n",
      "Lost Reworks\n",
      "Fixion \n",
      "Obverse\n",
      "Memoria\n",
      "Right Where He Belongs\n",
      "Vertikal\n",
      "Songs For The Deaf\n",
      "Rhinoplasty\n",
      "Show Your Bones\n",
      "Fever To Tell\n",
      "Year Zero Remixed\n",
      "X\n",
      "With Teeth\n",
      "The Downward Spiral\n",
      "Brown Album\n",
      "Antipop\n",
      "Sailing The Seas Of Cheese\n",
      "Tales From The Punchbowl\n",
      "Nightcrawler (Original Motion Picture Soundtrack)\n",
      "Alchemy For The Dead\n",
      "Songs For The Deaf\n",
      "Let England Shake\n",
      "Let England Shake - Demos\n",
      "De Lo Concreto → A Lo General\n",
      "Materia Oscura\n",
      "Age Of Winters\n",
      "Gods Of The Earth\n",
      "Warp Riders\n",
      "Gods Of The Earth\n",
      "Birdy Nam Nam\n",
      "Into The Realm\n",
      "Don't Blow Your Top\n",
      "In The Fishtank 7\n",
      "Love And Hate In Dub\n",
      "Fácil De Entender\n",
      "The Physical World\n",
      "You're A Woman, I'm A Machine\n",
      "LateNightTales\n",
      "Passover\n",
      "Cold Fact\n",
      "Rat Wars\n",
      "DISCO4 :: Part II\n",
      "La Roda De La Justícia\n",
      "The End Of Electricity\n",
      "Sonic Moons\n",
      "...Like Clockwork\n",
      "Villains\n",
      "Mauna Loa\n",
      "Guerrera\n",
      "White Pony\n",
      "Adrenaline\n",
      "Deftones\n",
      "Saturday Night Wrist\n",
      "Around The Fur\n",
      "Plays Metallica By Four Cellos\n",
      "Third\n",
      "Permanent Waves\n",
      "Power Windows\n",
      "Fluid Existential Inversions\n",
      "True\n",
      "City Of God (Original Motion Picture Soundtrack)\n",
      "Wolfmother\n",
      "II\n",
      "Live\n",
      "Mean Friend Vol. 1\n",
      "Mean Friend Vol. 2\n",
      "EXTLP\n",
      "More D4ta\n",
      "Monkeytown\n",
      "III\n",
      "Lightning Bolt\n",
      "Condors\n",
      "Femina\n",
      "Amigos Del Género Humano\n",
      "Triángulo De Amor Bizarro\n",
      "Salve Discordia\n",
      "oɹɹɐzıqɹoɯɐǝpolnƃuɐıɹʇ\n",
      "Sed\n",
      "Blind Melon\n",
      "De-Loused In The Comatorium\n",
      "Wrath\n",
      "Hymns\n",
      "Rage Against The Machine\n",
      "Vs.\n",
      "Blackwater Park\n",
      "Please Do Not Steal It!\n",
      "Watershed\n",
      "Ghost Reveries\n",
      "Thirteenth Step\n",
      "Filth Pig\n",
      "Grinderman\n",
      "Grinderman 2\n",
      "LP5\n",
      "Grinderman 2 RMX\n",
      "Music For The Masses\n",
      "Zeal & Ardor\n",
      "Devil Is Fine\n",
      "Antemasque\n",
      "Iterations\n",
      "Apocryphon\n",
      "Forgive Us Our Trespasses\n",
      "Mass VI\n",
      "The Hits\n",
      "Killer Kovers\n",
      "Hijos Del Sol\n",
      "Bloodnstuff\n",
      "Selecta Perspective\n",
      "Zorya\n",
      "III\n",
      "Never Exhale\n",
      "Yield\n",
      "Mind Conductor\n",
      "Outlands\n",
      "Burning in Heaven, Melting on Earth\n",
      "Chasing Shadows\n",
      "Live Newcastle England (1993-02-23)\n",
      "Mechanical Animals\n",
      "The Fragile\n",
      "Broken\n",
      "Lost Highway\n",
      "Omens\n",
      "VII: Sturm Und Drang\n",
      "Sorceress\n",
      "Goliath\n",
      "In Cauda Venenum\n",
      "Lamb Of God\n",
      "Lesser Man EP (Extended Version)\n",
      "Yr Body Is Nothing\n",
      "Careful\n",
      "Country Girl Uncut\n",
      "The Runner (Original Soundtrack)\n",
      "Split\n",
      "H\n",
      "Metanoia\n",
      "Unfall\n",
      "Alive In New Light\n",
      "·Mate· ·Feed· ·Kill· ·Repeat·\n",
      "Fear Of The Dark\n",
      "Tourist\n",
      "The Virgin Suicides\n",
      "Amnesiac\n",
      "Crawler\n",
      "Autobahn\n",
      "Pork Soda\n",
      "From Light Into Mass\n",
      "The Last Resort (Vinyl Edition)\n",
      "Faust\n",
      "Ainsi Soit Je...\n",
      "It's Blitz!\n",
      "Born To Die\n",
      "Hesitation Marks\n",
      "March Of The Zapotec / Holland\n",
      "Greatest Hits\n",
      "Bolsa Amarilla Y Piedra Potente\n",
      "Black Math Horseman\n",
      "Seminar VIII: Light Of Meaning\n",
      "Seminar IX: Darkness Of Being\n",
      "Himalayan\n",
      "\"Conditions Of My Parole\"\n",
      "Silent Shout\n",
      "Stanford University Broadcast May 3rd, 1989\n",
      "Manual De Iniciação À Vadiagem\n",
      "High Country\n",
      "The Empyrean\n",
      "The Empyrean\n",
      "Enclosure\n",
      "The Last Will And Testament\n",
      "Tend No Wounds\n",
      "Soma\n",
      "Admission\n",
      "Celestial Blues\n",
      "_Ohms\n",
      "Diamond Eyes\n",
      "B-Sides & Rarities\n",
      "The Black Parade Is Dead!\n",
      "Gore\n",
      "Live: Volume 1 - Selections From Adrenaline\n",
      "Koi No Yokan\n",
      "Covers\n",
      "71 Minutes\n",
      "in•ter a•li•a\n",
      "Fortitude\n",
      "Glow On\n",
      "L'Enfant Sauvage\n",
      "Chaos A.D.\n",
      "Magma\n",
      "Past // Middle Age // Future\n",
      "II\n",
      "Viscerals\n",
      "Land Of Sleeper\n",
      "Telesterion\n",
      "Xenophanes\n",
      "Solar Gambling\n",
      "Los Sueños De Un Higado\n",
      "Ciencia De Los Inútiles\n",
      "Omar Rodriguez Lopez & John Frusciante\n",
      "Noctourniquet\n",
      "Octahedron\n",
      "Cryptomnesia\n",
      "Sunbathing Animal\n",
      "II\n",
      "Criminal\n",
      "I\n",
      "Монумент = Monument\n",
      "С Крыш Наших Домов = S Krysh Nashikh Domov\n",
      "Lost Themes No. 4: \"Noir\"\n",
      "Blood Year\n",
      "Self​-​Surgery\n",
      "Gnosis\n",
      "Heavy Rocks\n",
      "Hiss Spun\n",
      "Birth Of Violence \n",
      "Burden\n",
      "Exhausting Fire\n",
      "Images Du Futur\n",
      "Hold/Still Remixes\n",
      "The Ape Of God\n",
      "Gris Klein\n",
      "Hi Scores\n",
      "Sentido Del Espectáculo\n",
      "Division Of Culture And Tourism\n",
      "Adiós Sancho\n",
      "Oceanborn\n",
      "Bleach\n",
      "The Invisible Way\n",
      "Metz\n",
      "Automatic  Midnight\n",
      "Hardcore Will Never Die, But You Will.\n",
      "Earth Division EP\n",
      "C'mon\n",
      "Más Allá de NDV EP\n",
      "Abominable\n",
      "Crazy Clown Time\n",
      "(IV)\n",
      "Para Quienes Aún Viven\n",
      "Close\n",
      "Live At Roadburn\n",
      "The Day Is My Enemy Remixes\n",
      "No Tourists\n",
      "The Day Is My Enemy\n",
      "Wyllt\n",
      "The Other Side\n",
      "Hush\n",
      "Watchmen: Vol. 03 (Music From The HBO Series) \n",
      "Watchmen: Vol. 01 (Music From The HBO Series)\n",
      "Watchmen: Vol. 02 (Music From The HBO Series)\n",
      "The Vietnam War\n",
      "Heligoland\n",
      "Aleph\n",
      "Sea Of Cowards\n",
      "Horehound\n",
      "The Complete John Peel Sessions\n",
      "Dodge And Burn\n",
      "The King Of Limbs\n",
      "10,000 Days\n",
      "Fear Inoculum\n",
      "Two Nuns And A Pack Mule\n",
      "Untitled\n",
      "Tweez\n",
      "At Action Park\n",
      "Eeviac: Operational Index And Reference Guide, Including Other Modern Computational Devices\n",
      "1000 Hurts\n",
      "Excellent Italian Greyhound\n",
      "Dude Incredible\n",
      "The End Of Radio (14 July 1994 Peel Session / 1 December 2004 Peel Session)\n",
      "Lungs\n",
      "Songs About Fucking\n",
      "Spiderland\n",
      "Terraform\n",
      "To All Trains\n",
      "Acrobatic Tenement\n",
      "Relationship Of Command\n",
      "The Sleepwalking Society\n",
      "A Journey Too Far\n",
      "Pretty Hate Machine\n",
      "Psyence Fiction\n",
      "Ensalada Ovni\n",
      "Garage Inc.\n",
      "Is 4 Lovers\n",
      "Pretty Hate Machine\n",
      "Roseland NYC Live\n",
      "The Bedlam In Goliath\n",
      "Goliath\n",
      "In Time To Voices\n",
      "Autobahn\n",
      "La Métamorphose\n",
      "Ummon\n",
      "Mer De Noms\n",
      "Opiate\n",
      "Undertow\n",
      "The Hawk Is Howling\n",
      "TRON: Legacy (Vinyl Edition Motion Picture Soundtrack)\n",
      "TRON: Legacy Reconfigured\n",
      "Origin Of Symmetry\n",
      "Paris, Texas - Original Motion Picture Soundtrack\n",
      "Outrage! Is Now\n",
      "Blood Sugar Sex Magik\n",
      "Stadium Arcadium\n",
      "Permanent.Radiant\n",
      "Typhoons\n",
      "Showbiz\n",
      "Myth Takes\n",
      "Glow\n",
      "The Campfire Headphase\n",
      "Tomorrow's Harvest\n",
      "Twoism\n",
      "Richard D. James Album\n",
      "Incunabula\n",
      "Elwan\n",
      "Light Up Gold\n",
      "Our Delicate Stranded Nightmare\n",
      "The Fat Of The Land\n",
      "La Revancha Del Tango\n",
      "In Rainbows\n",
      "Kid A\n",
      "LP4\n",
      "OK Computer\n",
      "Default\n",
      "I Saw Nothing Good So I Left\n",
      "xx\n",
      "Fantasy Black Channel\n",
      "Lateralus\n"
     ]
    }
   ],
   "source": [
    "collection = pd.DataFrame()\n",
    "title = list()\n",
    "artist = list()\n",
    "year = list()\n",
    "num_for_sale = list()\n",
    "lowest_price = list()\n",
    "json_res = list()\n",
    "\n",
    "# loop to get all data from collection\n",
    "for item in me.collection_folders[0].releases:\n",
    "    print(item.release.title)\n",
    "    title.append(item.release.title)\n",
    "    artist.append(\", \".join(artist.name for artist in item.release.artists))\n",
    "    year.append(item.release.year)\n",
    "\n",
    "    response = requests.get(item.release.data['resource_url'])\n",
    "\n",
    "    try:\n",
    "        response.raise_for_status()\n",
    "        json_response = response.json()\n",
    "    except requests.exceptions.HTTPError as err:\n",
    "        print(err)\n",
    "        print(response.text)\n",
    "        json_response = None\n",
    "\n",
    "    if 'num_for_sale' in json_response:\n",
    "        #print(json_response['num_for_sale'])\n",
    "        num_for_sale.append(json_response['num_for_sale'])\n",
    "        lowest_price.append(json_response['lowest_price'])\n",
    "    else:\n",
    "        #print(json_response)\n",
    "        num_for_sale.append(0)\n",
    "        lowest_price.append(0)\n",
    "    json_res.append(json_response)\n",
    "    #print(json_response)\n",
    "    time.sleep(5) # delay to comply with discogs API\n",
    "    \n"
   ]
  },
  {
   "cell_type": "code",
   "execution_count": 7,
   "metadata": {},
   "outputs": [
    {
     "data": {
      "text/html": [
       "<div>\n",
       "<style scoped>\n",
       "    .dataframe tbody tr th:only-of-type {\n",
       "        vertical-align: middle;\n",
       "    }\n",
       "\n",
       "    .dataframe tbody tr th {\n",
       "        vertical-align: top;\n",
       "    }\n",
       "\n",
       "    .dataframe thead th {\n",
       "        text-align: right;\n",
       "    }\n",
       "</style>\n",
       "<table border=\"1\" class=\"dataframe\">\n",
       "  <thead>\n",
       "    <tr style=\"text-align: right;\">\n",
       "      <th></th>\n",
       "      <th>title</th>\n",
       "      <th>artist</th>\n",
       "      <th>year</th>\n",
       "      <th>num_for_sale</th>\n",
       "      <th>lowest_price</th>\n",
       "      <th>json_response</th>\n",
       "    </tr>\n",
       "  </thead>\n",
       "  <tbody>\n",
       "    <tr>\n",
       "      <th>0</th>\n",
       "      <td>Infinity Pool</td>\n",
       "      <td>When Saints Go Machine</td>\n",
       "      <td>2013</td>\n",
       "      <td>6</td>\n",
       "      <td>22.99</td>\n",
       "      <td>{'id': 4596009, 'status': 'Accepted', 'year': ...</td>\n",
       "    </tr>\n",
       "    <tr>\n",
       "      <th>1</th>\n",
       "      <td>Lux Prima</td>\n",
       "      <td>Karen O, Danger Mouse</td>\n",
       "      <td>2019</td>\n",
       "      <td>11</td>\n",
       "      <td>67.46</td>\n",
       "      <td>{'id': 13381093, 'status': 'Accepted', 'year':...</td>\n",
       "    </tr>\n",
       "    <tr>\n",
       "      <th>2</th>\n",
       "      <td>Milano</td>\n",
       "      <td>Daniele Luppi, Parquet Courts</td>\n",
       "      <td>2017</td>\n",
       "      <td>35</td>\n",
       "      <td>11.81</td>\n",
       "      <td>{'id': 11295044, 'status': 'Accepted', 'year':...</td>\n",
       "    </tr>\n",
       "    <tr>\n",
       "      <th>3</th>\n",
       "      <td>Sleep Well Beast</td>\n",
       "      <td>The National</td>\n",
       "      <td>2017</td>\n",
       "      <td>108</td>\n",
       "      <td>20.09</td>\n",
       "      <td>{'id': 10823938, 'status': 'Accepted', 'year':...</td>\n",
       "    </tr>\n",
       "    <tr>\n",
       "      <th>4</th>\n",
       "      <td>Fordlandia</td>\n",
       "      <td>Jóhann Jóhannsson</td>\n",
       "      <td>2019</td>\n",
       "      <td>45</td>\n",
       "      <td>20.00</td>\n",
       "      <td>{'id': 14492461, 'status': 'Accepted', 'year':...</td>\n",
       "    </tr>\n",
       "    <tr>\n",
       "      <th>...</th>\n",
       "      <td>...</td>\n",
       "      <td>...</td>\n",
       "      <td>...</td>\n",
       "      <td>...</td>\n",
       "      <td>...</td>\n",
       "      <td>...</td>\n",
       "    </tr>\n",
       "    <tr>\n",
       "      <th>495</th>\n",
       "      <td>Default</td>\n",
       "      <td>Atoms For Peace (2)</td>\n",
       "      <td>2012</td>\n",
       "      <td>15</td>\n",
       "      <td>4.45</td>\n",
       "      <td>{'id': 4029978, 'status': 'Accepted', 'year': ...</td>\n",
       "    </tr>\n",
       "    <tr>\n",
       "      <th>496</th>\n",
       "      <td>I Saw Nothing Good So I Left</td>\n",
       "      <td>Bragolin</td>\n",
       "      <td>2023</td>\n",
       "      <td>4</td>\n",
       "      <td>27.11</td>\n",
       "      <td>{'id': 28045602, 'status': 'Accepted', 'year':...</td>\n",
       "    </tr>\n",
       "    <tr>\n",
       "      <th>497</th>\n",
       "      <td>xx</td>\n",
       "      <td>The XX</td>\n",
       "      <td>2009</td>\n",
       "      <td>4</td>\n",
       "      <td>31.90</td>\n",
       "      <td>{'id': 1932940, 'status': 'Accepted', 'year': ...</td>\n",
       "    </tr>\n",
       "    <tr>\n",
       "      <th>498</th>\n",
       "      <td>Fantasy Black Channel</td>\n",
       "      <td>Late Of The Pier</td>\n",
       "      <td>2008</td>\n",
       "      <td>9</td>\n",
       "      <td>65.00</td>\n",
       "      <td>{'id': 1432364, 'status': 'Accepted', 'year': ...</td>\n",
       "    </tr>\n",
       "    <tr>\n",
       "      <th>499</th>\n",
       "      <td>Lateralus</td>\n",
       "      <td>Tool (2)</td>\n",
       "      <td>2011</td>\n",
       "      <td>61</td>\n",
       "      <td>13.59</td>\n",
       "      <td>{'id': 10315855, 'status': 'Accepted', 'year':...</td>\n",
       "    </tr>\n",
       "  </tbody>\n",
       "</table>\n",
       "<p>500 rows × 6 columns</p>\n",
       "</div>"
      ],
      "text/plain": [
       "                            title                         artist  year  \\\n",
       "0                   Infinity Pool         When Saints Go Machine  2013   \n",
       "1                       Lux Prima          Karen O, Danger Mouse  2019   \n",
       "2                          Milano  Daniele Luppi, Parquet Courts  2017   \n",
       "3                Sleep Well Beast                   The National  2017   \n",
       "4                      Fordlandia              Jóhann Jóhannsson  2019   \n",
       "..                            ...                            ...   ...   \n",
       "495                       Default            Atoms For Peace (2)  2012   \n",
       "496  I Saw Nothing Good So I Left                       Bragolin  2023   \n",
       "497                            xx                         The XX  2009   \n",
       "498         Fantasy Black Channel               Late Of The Pier  2008   \n",
       "499                     Lateralus                       Tool (2)  2011   \n",
       "\n",
       "     num_for_sale  lowest_price  \\\n",
       "0               6         22.99   \n",
       "1              11         67.46   \n",
       "2              35         11.81   \n",
       "3             108         20.09   \n",
       "4              45         20.00   \n",
       "..            ...           ...   \n",
       "495            15          4.45   \n",
       "496             4         27.11   \n",
       "497             4         31.90   \n",
       "498             9         65.00   \n",
       "499            61         13.59   \n",
       "\n",
       "                                         json_response  \n",
       "0    {'id': 4596009, 'status': 'Accepted', 'year': ...  \n",
       "1    {'id': 13381093, 'status': 'Accepted', 'year':...  \n",
       "2    {'id': 11295044, 'status': 'Accepted', 'year':...  \n",
       "3    {'id': 10823938, 'status': 'Accepted', 'year':...  \n",
       "4    {'id': 14492461, 'status': 'Accepted', 'year':...  \n",
       "..                                                 ...  \n",
       "495  {'id': 4029978, 'status': 'Accepted', 'year': ...  \n",
       "496  {'id': 28045602, 'status': 'Accepted', 'year':...  \n",
       "497  {'id': 1932940, 'status': 'Accepted', 'year': ...  \n",
       "498  {'id': 1432364, 'status': 'Accepted', 'year': ...  \n",
       "499  {'id': 10315855, 'status': 'Accepted', 'year':...  \n",
       "\n",
       "[500 rows x 6 columns]"
      ]
     },
     "execution_count": 7,
     "metadata": {},
     "output_type": "execute_result"
    }
   ],
   "source": [
    "collection['title'] = title\n",
    "collection['artist'] = artist\n",
    "collection['year'] = year\n",
    "collection['num_for_sale'] = num_for_sale\n",
    "collection['lowest_price'] = lowest_price\n",
    "collection['json_response'] = json_res\n",
    "collection"
   ]
  },
  {
   "cell_type": "code",
   "execution_count": 16,
   "metadata": {},
   "outputs": [],
   "source": [
    "# Get the current timestamp\n",
    "timestamp = datetime.now().strftime('%Y%m%d_%H%M%S')\n",
    "\n",
    "# Save the dataframe to a pickle file with the timestamp in the name\n",
    "collection.to_pickle(f'./data/collection_{timestamp}.pkl')\n",
    "collection.to_pickle(f'./data/collection.pkl')\n"
   ]
  },
  {
   "cell_type": "code",
   "execution_count": 17,
   "metadata": {},
   "outputs": [],
   "source": [
    "collection = pd.read_pickle(f'./data/collection.pkl')\n"
   ]
  },
  {
   "cell_type": "code",
   "execution_count": 18,
   "metadata": {},
   "outputs": [
    {
     "data": {
      "text/html": [
       "<div>\n",
       "<style scoped>\n",
       "    .dataframe tbody tr th:only-of-type {\n",
       "        vertical-align: middle;\n",
       "    }\n",
       "\n",
       "    .dataframe tbody tr th {\n",
       "        vertical-align: top;\n",
       "    }\n",
       "\n",
       "    .dataframe thead th {\n",
       "        text-align: right;\n",
       "    }\n",
       "</style>\n",
       "<table border=\"1\" class=\"dataframe\">\n",
       "  <thead>\n",
       "    <tr style=\"text-align: right;\">\n",
       "      <th></th>\n",
       "      <th>year</th>\n",
       "      <th>records</th>\n",
       "    </tr>\n",
       "  </thead>\n",
       "  <tbody>\n",
       "    <tr>\n",
       "      <th>0</th>\n",
       "      <td>0</td>\n",
       "      <td>8</td>\n",
       "    </tr>\n",
       "    <tr>\n",
       "      <th>1</th>\n",
       "      <td>1974</td>\n",
       "      <td>1</td>\n",
       "    </tr>\n",
       "    <tr>\n",
       "      <th>2</th>\n",
       "      <td>1975</td>\n",
       "      <td>1</td>\n",
       "    </tr>\n",
       "    <tr>\n",
       "      <th>3</th>\n",
       "      <td>1976</td>\n",
       "      <td>1</td>\n",
       "    </tr>\n",
       "    <tr>\n",
       "      <th>4</th>\n",
       "      <td>1980</td>\n",
       "      <td>1</td>\n",
       "    </tr>\n",
       "    <tr>\n",
       "      <th>5</th>\n",
       "      <td>1984</td>\n",
       "      <td>1</td>\n",
       "    </tr>\n",
       "    <tr>\n",
       "      <th>6</th>\n",
       "      <td>1985</td>\n",
       "      <td>2</td>\n",
       "    </tr>\n",
       "    <tr>\n",
       "      <th>7</th>\n",
       "      <td>1986</td>\n",
       "      <td>1</td>\n",
       "    </tr>\n",
       "    <tr>\n",
       "      <th>8</th>\n",
       "      <td>1987</td>\n",
       "      <td>1</td>\n",
       "    </tr>\n",
       "    <tr>\n",
       "      <th>9</th>\n",
       "      <td>1988</td>\n",
       "      <td>3</td>\n",
       "    </tr>\n",
       "  </tbody>\n",
       "</table>\n",
       "</div>"
      ],
      "text/plain": [
       "   year  records\n",
       "0     0        8\n",
       "1  1974        1\n",
       "2  1975        1\n",
       "3  1976        1\n",
       "4  1980        1\n",
       "5  1984        1\n",
       "6  1985        2\n",
       "7  1986        1\n",
       "8  1987        1\n",
       "9  1988        3"
      ]
     },
     "execution_count": 18,
     "metadata": {},
     "output_type": "execute_result"
    }
   ],
   "source": [
    "collection_by_year = collection.groupby(['year']).agg(\n",
    "    records = ('title',pd.Series.nunique)\n",
    ")\n",
    "collection_by_year.reset_index(inplace=True)\n",
    "collection_by_year[:10]"
   ]
  },
  {
   "cell_type": "code",
   "execution_count": 19,
   "metadata": {},
   "outputs": [
    {
     "data": {
      "application/vnd.plotly.v1+json": {
       "config": {
        "plotlyServerURL": "https://plot.ly"
       },
       "data": [
        {
         "hovertemplate": "year=%{x}<br>records=%{y}<extra></extra>",
         "legendgroup": "",
         "marker": {
          "color": "#636efa",
          "pattern": {
           "shape": ""
          }
         },
         "name": "",
         "orientation": "v",
         "showlegend": false,
         "textposition": "auto",
         "type": "bar",
         "x": {
          "bdata": "tge3B7gHvAfAB8EHwgfDB8QHxQfHB8gHyQfKB8sHzAfNB84HzwfQB9EH0gfTB9QH1QfWB9cH2AfZB9oH2wfcB90H3gffB+AH4QfiB+MH5AflB+YH5wfoB+kH",
          "dtype": "i2"
         },
         "xaxis": "x",
         "y": {
          "bdata": "AQEBAQECAQEDAQICAgEBAQICAQMBAwUCBAwMChgXHBgjIBUeIhoZEhEdGhIC",
          "dtype": "i1"
         },
         "yaxis": "y"
        }
       ],
       "layout": {
        "barmode": "relative",
        "legend": {
         "tracegroupgap": 0
        },
        "margin": {
         "t": 60
        },
        "template": {
         "data": {
          "bar": [
           {
            "error_x": {
             "color": "#2a3f5f"
            },
            "error_y": {
             "color": "#2a3f5f"
            },
            "marker": {
             "line": {
              "color": "#E5ECF6",
              "width": 0.5
             },
             "pattern": {
              "fillmode": "overlay",
              "size": 10,
              "solidity": 0.2
             }
            },
            "type": "bar"
           }
          ],
          "barpolar": [
           {
            "marker": {
             "line": {
              "color": "#E5ECF6",
              "width": 0.5
             },
             "pattern": {
              "fillmode": "overlay",
              "size": 10,
              "solidity": 0.2
             }
            },
            "type": "barpolar"
           }
          ],
          "carpet": [
           {
            "aaxis": {
             "endlinecolor": "#2a3f5f",
             "gridcolor": "white",
             "linecolor": "white",
             "minorgridcolor": "white",
             "startlinecolor": "#2a3f5f"
            },
            "baxis": {
             "endlinecolor": "#2a3f5f",
             "gridcolor": "white",
             "linecolor": "white",
             "minorgridcolor": "white",
             "startlinecolor": "#2a3f5f"
            },
            "type": "carpet"
           }
          ],
          "choropleth": [
           {
            "colorbar": {
             "outlinewidth": 0,
             "ticks": ""
            },
            "type": "choropleth"
           }
          ],
          "contour": [
           {
            "colorbar": {
             "outlinewidth": 0,
             "ticks": ""
            },
            "colorscale": [
             [
              0,
              "#0d0887"
             ],
             [
              0.1111111111111111,
              "#46039f"
             ],
             [
              0.2222222222222222,
              "#7201a8"
             ],
             [
              0.3333333333333333,
              "#9c179e"
             ],
             [
              0.4444444444444444,
              "#bd3786"
             ],
             [
              0.5555555555555556,
              "#d8576b"
             ],
             [
              0.6666666666666666,
              "#ed7953"
             ],
             [
              0.7777777777777778,
              "#fb9f3a"
             ],
             [
              0.8888888888888888,
              "#fdca26"
             ],
             [
              1,
              "#f0f921"
             ]
            ],
            "type": "contour"
           }
          ],
          "contourcarpet": [
           {
            "colorbar": {
             "outlinewidth": 0,
             "ticks": ""
            },
            "type": "contourcarpet"
           }
          ],
          "heatmap": [
           {
            "colorbar": {
             "outlinewidth": 0,
             "ticks": ""
            },
            "colorscale": [
             [
              0,
              "#0d0887"
             ],
             [
              0.1111111111111111,
              "#46039f"
             ],
             [
              0.2222222222222222,
              "#7201a8"
             ],
             [
              0.3333333333333333,
              "#9c179e"
             ],
             [
              0.4444444444444444,
              "#bd3786"
             ],
             [
              0.5555555555555556,
              "#d8576b"
             ],
             [
              0.6666666666666666,
              "#ed7953"
             ],
             [
              0.7777777777777778,
              "#fb9f3a"
             ],
             [
              0.8888888888888888,
              "#fdca26"
             ],
             [
              1,
              "#f0f921"
             ]
            ],
            "type": "heatmap"
           }
          ],
          "histogram": [
           {
            "marker": {
             "pattern": {
              "fillmode": "overlay",
              "size": 10,
              "solidity": 0.2
             }
            },
            "type": "histogram"
           }
          ],
          "histogram2d": [
           {
            "colorbar": {
             "outlinewidth": 0,
             "ticks": ""
            },
            "colorscale": [
             [
              0,
              "#0d0887"
             ],
             [
              0.1111111111111111,
              "#46039f"
             ],
             [
              0.2222222222222222,
              "#7201a8"
             ],
             [
              0.3333333333333333,
              "#9c179e"
             ],
             [
              0.4444444444444444,
              "#bd3786"
             ],
             [
              0.5555555555555556,
              "#d8576b"
             ],
             [
              0.6666666666666666,
              "#ed7953"
             ],
             [
              0.7777777777777778,
              "#fb9f3a"
             ],
             [
              0.8888888888888888,
              "#fdca26"
             ],
             [
              1,
              "#f0f921"
             ]
            ],
            "type": "histogram2d"
           }
          ],
          "histogram2dcontour": [
           {
            "colorbar": {
             "outlinewidth": 0,
             "ticks": ""
            },
            "colorscale": [
             [
              0,
              "#0d0887"
             ],
             [
              0.1111111111111111,
              "#46039f"
             ],
             [
              0.2222222222222222,
              "#7201a8"
             ],
             [
              0.3333333333333333,
              "#9c179e"
             ],
             [
              0.4444444444444444,
              "#bd3786"
             ],
             [
              0.5555555555555556,
              "#d8576b"
             ],
             [
              0.6666666666666666,
              "#ed7953"
             ],
             [
              0.7777777777777778,
              "#fb9f3a"
             ],
             [
              0.8888888888888888,
              "#fdca26"
             ],
             [
              1,
              "#f0f921"
             ]
            ],
            "type": "histogram2dcontour"
           }
          ],
          "mesh3d": [
           {
            "colorbar": {
             "outlinewidth": 0,
             "ticks": ""
            },
            "type": "mesh3d"
           }
          ],
          "parcoords": [
           {
            "line": {
             "colorbar": {
              "outlinewidth": 0,
              "ticks": ""
             }
            },
            "type": "parcoords"
           }
          ],
          "pie": [
           {
            "automargin": true,
            "type": "pie"
           }
          ],
          "scatter": [
           {
            "fillpattern": {
             "fillmode": "overlay",
             "size": 10,
             "solidity": 0.2
            },
            "type": "scatter"
           }
          ],
          "scatter3d": [
           {
            "line": {
             "colorbar": {
              "outlinewidth": 0,
              "ticks": ""
             }
            },
            "marker": {
             "colorbar": {
              "outlinewidth": 0,
              "ticks": ""
             }
            },
            "type": "scatter3d"
           }
          ],
          "scattercarpet": [
           {
            "marker": {
             "colorbar": {
              "outlinewidth": 0,
              "ticks": ""
             }
            },
            "type": "scattercarpet"
           }
          ],
          "scattergeo": [
           {
            "marker": {
             "colorbar": {
              "outlinewidth": 0,
              "ticks": ""
             }
            },
            "type": "scattergeo"
           }
          ],
          "scattergl": [
           {
            "marker": {
             "colorbar": {
              "outlinewidth": 0,
              "ticks": ""
             }
            },
            "type": "scattergl"
           }
          ],
          "scattermap": [
           {
            "marker": {
             "colorbar": {
              "outlinewidth": 0,
              "ticks": ""
             }
            },
            "type": "scattermap"
           }
          ],
          "scattermapbox": [
           {
            "marker": {
             "colorbar": {
              "outlinewidth": 0,
              "ticks": ""
             }
            },
            "type": "scattermapbox"
           }
          ],
          "scatterpolar": [
           {
            "marker": {
             "colorbar": {
              "outlinewidth": 0,
              "ticks": ""
             }
            },
            "type": "scatterpolar"
           }
          ],
          "scatterpolargl": [
           {
            "marker": {
             "colorbar": {
              "outlinewidth": 0,
              "ticks": ""
             }
            },
            "type": "scatterpolargl"
           }
          ],
          "scatterternary": [
           {
            "marker": {
             "colorbar": {
              "outlinewidth": 0,
              "ticks": ""
             }
            },
            "type": "scatterternary"
           }
          ],
          "surface": [
           {
            "colorbar": {
             "outlinewidth": 0,
             "ticks": ""
            },
            "colorscale": [
             [
              0,
              "#0d0887"
             ],
             [
              0.1111111111111111,
              "#46039f"
             ],
             [
              0.2222222222222222,
              "#7201a8"
             ],
             [
              0.3333333333333333,
              "#9c179e"
             ],
             [
              0.4444444444444444,
              "#bd3786"
             ],
             [
              0.5555555555555556,
              "#d8576b"
             ],
             [
              0.6666666666666666,
              "#ed7953"
             ],
             [
              0.7777777777777778,
              "#fb9f3a"
             ],
             [
              0.8888888888888888,
              "#fdca26"
             ],
             [
              1,
              "#f0f921"
             ]
            ],
            "type": "surface"
           }
          ],
          "table": [
           {
            "cells": {
             "fill": {
              "color": "#EBF0F8"
             },
             "line": {
              "color": "white"
             }
            },
            "header": {
             "fill": {
              "color": "#C8D4E3"
             },
             "line": {
              "color": "white"
             }
            },
            "type": "table"
           }
          ]
         },
         "layout": {
          "annotationdefaults": {
           "arrowcolor": "#2a3f5f",
           "arrowhead": 0,
           "arrowwidth": 1
          },
          "autotypenumbers": "strict",
          "coloraxis": {
           "colorbar": {
            "outlinewidth": 0,
            "ticks": ""
           }
          },
          "colorscale": {
           "diverging": [
            [
             0,
             "#8e0152"
            ],
            [
             0.1,
             "#c51b7d"
            ],
            [
             0.2,
             "#de77ae"
            ],
            [
             0.3,
             "#f1b6da"
            ],
            [
             0.4,
             "#fde0ef"
            ],
            [
             0.5,
             "#f7f7f7"
            ],
            [
             0.6,
             "#e6f5d0"
            ],
            [
             0.7,
             "#b8e186"
            ],
            [
             0.8,
             "#7fbc41"
            ],
            [
             0.9,
             "#4d9221"
            ],
            [
             1,
             "#276419"
            ]
           ],
           "sequential": [
            [
             0,
             "#0d0887"
            ],
            [
             0.1111111111111111,
             "#46039f"
            ],
            [
             0.2222222222222222,
             "#7201a8"
            ],
            [
             0.3333333333333333,
             "#9c179e"
            ],
            [
             0.4444444444444444,
             "#bd3786"
            ],
            [
             0.5555555555555556,
             "#d8576b"
            ],
            [
             0.6666666666666666,
             "#ed7953"
            ],
            [
             0.7777777777777778,
             "#fb9f3a"
            ],
            [
             0.8888888888888888,
             "#fdca26"
            ],
            [
             1,
             "#f0f921"
            ]
           ],
           "sequentialminus": [
            [
             0,
             "#0d0887"
            ],
            [
             0.1111111111111111,
             "#46039f"
            ],
            [
             0.2222222222222222,
             "#7201a8"
            ],
            [
             0.3333333333333333,
             "#9c179e"
            ],
            [
             0.4444444444444444,
             "#bd3786"
            ],
            [
             0.5555555555555556,
             "#d8576b"
            ],
            [
             0.6666666666666666,
             "#ed7953"
            ],
            [
             0.7777777777777778,
             "#fb9f3a"
            ],
            [
             0.8888888888888888,
             "#fdca26"
            ],
            [
             1,
             "#f0f921"
            ]
           ]
          },
          "colorway": [
           "#636efa",
           "#EF553B",
           "#00cc96",
           "#ab63fa",
           "#FFA15A",
           "#19d3f3",
           "#FF6692",
           "#B6E880",
           "#FF97FF",
           "#FECB52"
          ],
          "font": {
           "color": "#2a3f5f"
          },
          "geo": {
           "bgcolor": "white",
           "lakecolor": "white",
           "landcolor": "#E5ECF6",
           "showlakes": true,
           "showland": true,
           "subunitcolor": "white"
          },
          "hoverlabel": {
           "align": "left"
          },
          "hovermode": "closest",
          "mapbox": {
           "style": "light"
          },
          "paper_bgcolor": "white",
          "plot_bgcolor": "#E5ECF6",
          "polar": {
           "angularaxis": {
            "gridcolor": "white",
            "linecolor": "white",
            "ticks": ""
           },
           "bgcolor": "#E5ECF6",
           "radialaxis": {
            "gridcolor": "white",
            "linecolor": "white",
            "ticks": ""
           }
          },
          "scene": {
           "xaxis": {
            "backgroundcolor": "#E5ECF6",
            "gridcolor": "white",
            "gridwidth": 2,
            "linecolor": "white",
            "showbackground": true,
            "ticks": "",
            "zerolinecolor": "white"
           },
           "yaxis": {
            "backgroundcolor": "#E5ECF6",
            "gridcolor": "white",
            "gridwidth": 2,
            "linecolor": "white",
            "showbackground": true,
            "ticks": "",
            "zerolinecolor": "white"
           },
           "zaxis": {
            "backgroundcolor": "#E5ECF6",
            "gridcolor": "white",
            "gridwidth": 2,
            "linecolor": "white",
            "showbackground": true,
            "ticks": "",
            "zerolinecolor": "white"
           }
          },
          "shapedefaults": {
           "line": {
            "color": "#2a3f5f"
           }
          },
          "ternary": {
           "aaxis": {
            "gridcolor": "white",
            "linecolor": "white",
            "ticks": ""
           },
           "baxis": {
            "gridcolor": "white",
            "linecolor": "white",
            "ticks": ""
           },
           "bgcolor": "#E5ECF6",
           "caxis": {
            "gridcolor": "white",
            "linecolor": "white",
            "ticks": ""
           }
          },
          "title": {
           "x": 0.05
          },
          "xaxis": {
           "automargin": true,
           "gridcolor": "white",
           "linecolor": "white",
           "ticks": "",
           "title": {
            "standoff": 15
           },
           "zerolinecolor": "white",
           "zerolinewidth": 2
          },
          "yaxis": {
           "automargin": true,
           "gridcolor": "white",
           "linecolor": "white",
           "ticks": "",
           "title": {
            "standoff": 15
           },
           "zerolinecolor": "white",
           "zerolinewidth": 2
          }
         }
        },
        "xaxis": {
         "anchor": "y",
         "domain": [
          0,
          1
         ],
         "title": {
          "text": "year"
         }
        },
        "yaxis": {
         "anchor": "x",
         "domain": [
          0,
          1
         ],
         "title": {
          "text": "records"
         }
        }
       }
      }
     },
     "metadata": {},
     "output_type": "display_data"
    }
   ],
   "source": [
    "g = px.bar(collection_by_year[collection_by_year.year>1970], x='year',y='records')\n",
    "g.show()"
   ]
  },
  {
   "cell_type": "code",
   "execution_count": 20,
   "metadata": {},
   "outputs": [
    {
     "data": {
      "text/plain": [
       "21.6"
      ]
     },
     "execution_count": 20,
     "metadata": {},
     "output_type": "execute_result"
    }
   ],
   "source": [
    "release = d.release(1)\n",
    "\n",
    "response = requests.get(release.data['resource_url'])\n",
    "response.json()['num_for_sale']\n",
    "response.json()['lowest_price']\n"
   ]
  },
  {
   "cell_type": "code",
   "execution_count": null,
   "metadata": {},
   "outputs": [],
   "source": []
  }
 ],
 "metadata": {
  "kernelspec": {
   "display_name": ".venv",
   "language": "python",
   "name": "python3"
  },
  "language_info": {
   "codemirror_mode": {
    "name": "ipython",
    "version": 3
   },
   "file_extension": ".py",
   "mimetype": "text/x-python",
   "name": "python",
   "nbconvert_exporter": "python",
   "pygments_lexer": "ipython3",
   "version": "3.12.1"
  },
  "orig_nbformat": 4
 },
 "nbformat": 4,
 "nbformat_minor": 2
}
